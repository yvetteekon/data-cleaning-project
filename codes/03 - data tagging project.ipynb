{
 "cells": [
  {
   "cell_type": "markdown",
   "metadata": {},
   "source": [
    "## Import Modules"
   ]
  },
  {
   "cell_type": "code",
   "execution_count": 1,
   "metadata": {},
   "outputs": [],
   "source": [
    "# Set paths\n",
    "import os\n",
    "import random\n",
    "from imp import reload\n",
    "\n",
    "# Data manipulation\n",
    "import pandas as pd\n",
    "import numpy as np\n",
    "\n",
    "# Geolocation\n",
    "import geonamescache\n",
    "\n",
    "# Set notebook options\n",
    "pd.set_option(\"display.max_columns\", 150)\n",
    "pd.set_option(\"display.max_rows\", 10000)\n",
    "pd.set_option(\"display.float_format\", lambda x: '%.2f' % x)\n",
    "\n",
    "# Pretty display of multiple functions in a cell\n",
    "from IPython.core.interactiveshell import InteractiveShell\n",
    "InteractiveShell.ast_node_interactivity = \"all\""
   ]
  },
  {
   "cell_type": "code",
   "execution_count": 2,
   "metadata": {},
   "outputs": [],
   "source": [
    "category0='Unknown'\n",
    "category1='Meat & Sausages'\n",
    "category2='Fish & Seafood'\n",
    "category3='Baking'\n",
    "category4='Produce'\n",
    "category5='Poultry'\n",
    "category6='Beans, Pasta, Rice & Assorted Grains'\n",
    "category7='Beverages'\n",
    "category8='Beer, Wine & Spirits'\n",
    "category9='Disposable/ Paper Products'\n",
    "category10='Condiment, Sauces & Spices'\n",
    "category11='Breakfast & Cereal'\n",
    "category12='Frozen'\n",
    "category13='Oils'\n",
    "category14='Bakery'\n",
    "category15='Dairy'\n",
    "category16='Snacks'\n",
    "category17='Canned Foods/ Preserves'\n",
    "category18='Cleaning Products'\n",
    "category19='Pharmacy'\n",
    "category20='Equipment'\n",
    "\n",
    "category = ' '\n",
    "\n",
    "items0 = []\n",
    "items1 = ['Beef', 'Lamb', 'Steak', 'Ribs', 'Pork', 'Veal', 'Sausage', 'Rabbit']\n",
    "items2 = ['Fish', 'Crab', 'Squid', 'Scallops', 'Scampi', 'Fillet', 'Sea Bass', 'Sardines', 'Shrimp', 'Salmon', 'Scallop',\n",
    "        'Grouper', 'Sole - Dover Whole Fresh', 'Barramundi', 'Halibut - Fletches', 'Mussels - Cultivated']\n",
    "items3 = ['Flavouring', 'Extract', 'Cookie Dough', 'Cookie - Dough', 'Truffle Cups - Brown', 'Flour', 'Sugar', 'Black Currants', 'Icing',\n",
    "         'Fond - Neutral', 'Phyllo Dough', 'Puree - Passion Fruit', 'Isomalt', 'Chocolate - Compound Coating',\n",
    "         'Chocolate', 'Tofu - Firm', 'Baking Powder', 'Coconut - Shredded Sweet', 'Liners - Banana Paper']\n",
    "items4 = ['Onions', 'Artichoke', 'Grapes', 'Papayas', 'Eggplant', 'Blackberries', 'Kiwi', 'Blueberries', 'Turnip', 'Mangoes',\n",
    "        'Oranges - Navel', 'Loquat', 'Durian', 'Lettuce', 'Spinach', 'Pomello', 'Fuji Apples', 'Banana', 'Pears',  'Salsify Organic',\n",
    "        'Langers - Ruby Red Grapfruit', 'Sprouts - Alfalfa', 'Raspberries - Fresh', 'Beets - Candy Cane Organic',\n",
    "        'Sprouts - Baby Pea Tendrils', 'Tomato', 'Potatoes', 'Apricot', 'Beets - Mini Golden',\n",
    "        'Zucchini - Yellow']\n",
    "items5 = ['Chicken', 'Turkey', 'Guinea Fowl', 'Duck']\n",
    "items6 = ['Rice', 'Beans', 'Pasta', 'Corn Meal', 'Broom - Corn', 'Pasta - Cheese / Spinach Bauletti']\n",
    "items7 = ['Tea', 'Coffee', 'Soda', 'Juice', 'Water', 'Carbonated', 'Pepsi', 'Lemonade', 'Hot Chocolate', \n",
    "         'Island Oasis - Mango Daiquiri', 'Grenadine', 'Jolt Cola - Electric Blue', 'Puree - Mocha', 'Sobe - Tropical Energy',\n",
    "        'antucket - Pomegranate Pear', 'Gatorade - Xfactor Berry', 'V8 - Berry Blend', 'Ocean Spray', 'Nantuket Peach Orange']\n",
    "items8 = ['Wine', 'Beer', 'Brandy', 'Rum', 'Smirnoff', 'Cognac', 'Campari', 'Remy Red', 'Cassis', 'Pernod', 'Pina Colada',\n",
    "        'Creme De Banane - Marie', 'Tia Maria', 'Lime Cordial', 'Jagermeister', 'Bacardi Breezer - Tropical']\n",
    "items9 = ['Spoon', 'Towel', 'Table Cloth', 'Napkin', 'Plastic', 'Foam', 'Cup', 'Doilies - 5 Paper', 'Chef Hat 20Cm',\n",
    "        'Steam Pan - Half Size Deep', 'Skirt', 'Sword Pick Asst', 'Tray - 16In Rnd Blk']\n",
    "items10 = ['Sauce', 'Primerba', 'Pepper', 'Ketchup', 'Mayonnaise', 'Smoked Paprika', 'Bay Leaf', 'Garlic',\n",
    "          'Cumin', 'Sage', 'Wasabi', 'Thyme', 'Frenngreek', 'Onion Powder', 'Dry', 'Dried', 'Seed', 'Vinegar',\n",
    "         'Wiberg Super Cure', 'Tahini Paste', 'Hickory Smoke Liquid', 'Otomegusa Dashi Konbu', 'Anchovy Paste', \n",
    "          'Browning Caramel Glace', 'Mustard Prepared', 'Rambutan', 'Olive - Spread Tapenade', 'Curry Paste - Madras']\n",
    "items11 = ['Cereal', 'Cornflakes']\n",
    "items12 = ['Egg Roll', 'Wrap', 'Ice Cream', 'Frozen']\n",
    "items13 = ['Oil']\n",
    "items14 = ['Bread', 'Pastry', 'Tart', 'Cake', 'Bagel', 'Muffin', 'Quiche', 'Brulee', 'Cinnamon Buns Sticky', \n",
    "          'Vol Au Vents', 'Assorted Desserts']\n",
    "items15 = ['Milk', 'Cheese', 'Eggs', 'Yoghurt', 'Yogurt', 'Butter', 'Hersey Shakes']\n",
    "items16 = ['Crackers', 'Chips', 'Nut', 'Cookie Chocolate', 'Cookies', 'Macaroons - Two Bite Choc', 'Kellogs All Bran Bars']\n",
    "items17 = ['Soup', 'Canned', 'Tuna - Salad Premix', 'Clam Nectar', 'Sauerkraut', 'Pie Filling', \n",
    "         'Cattail Hearts', 'Olives - Kalamata']\n",
    "items18 = ['Ecolab', 'Garbage Bags - Clear', 'Garbag Bags', 'Vaccum Bag', 'Gloves']\n",
    "items19 = ['Thermometer Digital', 'Bandage']\n",
    "items20 = ['Ice - Clear 300 Lb For Carving', 'Pail With Metal Handle 16L White', 'Pail For Lid',\n",
    "          'General Purpose Trigger', 'Hinge W Undercut', 'Ezy Change Mophandle']\n",
    "\n",
    "products_dict = {category0:items0, category1:items1, category2:items2, category3:items3, category4:items4, category5:items5, \n",
    "                 category6:items6, category7:items7, category8:items8, category9:items9, category10:items10, category11:items11,\n",
    "                 category12:items12, category13:items13, category14:items14, category15:items15,category16:items16, \n",
    "                 category17:items17, category18:items18, category19:items19, category20:items20}"
   ]
  },
  {
   "cell_type": "code",
   "execution_count": 3,
   "metadata": {},
   "outputs": [],
   "source": [
    "_dict = pd.DataFrame.from_dict(products_dict, orient='index')"
   ]
  },
  {
   "cell_type": "code",
   "execution_count": 4,
   "metadata": {},
   "outputs": [],
   "source": [
    "_dict.columns = [f'{i+1}' for i in _dict]"
   ]
  },
  {
   "cell_type": "code",
   "execution_count": 5,
   "metadata": {},
   "outputs": [],
   "source": [
    "# _dict.head(2)"
   ]
  },
  {
   "cell_type": "code",
   "execution_count": 6,
   "metadata": {},
   "outputs": [],
   "source": [
    "_dict_orig_colnames = _dict.columns"
   ]
  },
  {
   "cell_type": "code",
   "execution_count": 7,
   "metadata": {},
   "outputs": [],
   "source": [
    "_dict=_dict.reset_index()"
   ]
  },
  {
   "cell_type": "code",
   "execution_count": 8,
   "metadata": {},
   "outputs": [],
   "source": [
    "# _dict.head(2)"
   ]
  },
  {
   "cell_type": "code",
   "execution_count": 9,
   "metadata": {},
   "outputs": [],
   "source": [
    "_dict.rename(columns={'index':'0'}, inplace=True)"
   ]
  },
  {
   "cell_type": "code",
   "execution_count": 10,
   "metadata": {},
   "outputs": [],
   "source": [
    "# _dict.head(2)"
   ]
  },
  {
   "cell_type": "code",
   "execution_count": 11,
   "metadata": {},
   "outputs": [],
   "source": [
    "_dict = pd.melt(_dict, id_vars='0', value_vars=_dict_orig_colnames )"
   ]
  },
  {
   "cell_type": "code",
   "execution_count": 12,
   "metadata": {},
   "outputs": [
    {
     "data": {
      "text/plain": [
       "(630, 2)"
      ]
     },
     "execution_count": 12,
     "metadata": {},
     "output_type": "execute_result"
    }
   ],
   "source": [
    "_dict.rename(columns={'0':'category', 'value':'item'},inplace=True)\n",
    "_dict = _dict[['item', 'category']]; _dict.shape"
   ]
  },
  {
   "cell_type": "code",
   "execution_count": 13,
   "metadata": {},
   "outputs": [
    {
     "data": {
      "text/plain": [
       "(212, 2)"
      ]
     },
     "execution_count": 13,
     "metadata": {},
     "output_type": "execute_result"
    }
   ],
   "source": [
    "_dict_clean = _dict.dropna(subset=['item']); _dict_clean.shape"
   ]
  },
  {
   "cell_type": "code",
   "execution_count": 14,
   "metadata": {},
   "outputs": [],
   "source": [
    "_dict_clean = _dict_clean.sort_values(['item', 'category']).reset_index(drop=True)"
   ]
  },
  {
   "cell_type": "code",
   "execution_count": 15,
   "metadata": {},
   "outputs": [],
   "source": [
    "# _dict_clean.head(2)"
   ]
  },
  {
   "cell_type": "code",
   "execution_count": 16,
   "metadata": {},
   "outputs": [],
   "source": [
    "def update_dict(_df, category, itemlist):\n",
    "    print('Dictionary is {} long'.format(_df.shape[0]))\n",
    "    print('============================\\n')\n",
    "    group = _df.groupby('category').get_group(category)\n",
    "    group_itemlist= group['item'].to_list()\n",
    "    for item in itemlist:\n",
    "        if item in group_itemlist:\n",
    "            print('\"{}\" is already tagged under \"{}\" category\\n'.format(item, category))\n",
    "            _df = _df\n",
    "        else:\n",
    "            print('\"{}\" added to \"{}\" category\\n'.format(item, category))\n",
    "            list = [item, category]\n",
    "            _df.loc[len(_df)] = list\n",
    "    print('============================')\n",
    "    print('Dictionary is now {} long'.format(_df.shape[0]))\n",
    "  \n",
    "    return _df"
   ]
  },
  {
   "cell_type": "markdown",
   "metadata": {},
   "source": [
    "# scenario 1  - add multiple additional items to existing category"
   ]
  },
  {
   "cell_type": "code",
   "execution_count": 17,
   "metadata": {},
   "outputs": [],
   "source": [
    "item_list1 = ['Whmis - Spray Bottle Trigger', 'Pail For Lid']\n",
    "category1 = 'Equipment'"
   ]
  },
  {
   "cell_type": "code",
   "execution_count": 18,
   "metadata": {},
   "outputs": [
    {
     "name": "stdout",
     "output_type": "stream",
     "text": [
      "Dictionary is 212 long\n",
      "============================\n",
      "\n",
      "\"Whmis - Spray Bottle Trigger\" added to \"Equipment\" category\n",
      "\n",
      "\"Pail For Lid\" is already tagged under \"Equipment\" category\n",
      "\n",
      "============================\n",
      "Dictionary is now 213 long\n"
     ]
    }
   ],
   "source": [
    "_dict_update = update_dict(_dict_clean, category1, item_list1)"
   ]
  },
  {
   "cell_type": "code",
   "execution_count": 19,
   "metadata": {},
   "outputs": [],
   "source": [
    "# _dict_update[_dict_update['item'] == 'Whmis - Spray Bottle Trigger']"
   ]
  },
  {
   "cell_type": "code",
   "execution_count": 20,
   "metadata": {},
   "outputs": [
    {
     "data": {
      "text/html": [
       "<div>\n",
       "<style scoped>\n",
       "    .dataframe tbody tr th:only-of-type {\n",
       "        vertical-align: middle;\n",
       "    }\n",
       "\n",
       "    .dataframe tbody tr th {\n",
       "        vertical-align: top;\n",
       "    }\n",
       "\n",
       "    .dataframe thead th {\n",
       "        text-align: right;\n",
       "    }\n",
       "</style>\n",
       "<table border=\"1\" class=\"dataframe\">\n",
       "  <thead>\n",
       "    <tr style=\"text-align: right;\">\n",
       "      <th></th>\n",
       "      <th>item</th>\n",
       "      <th>category</th>\n",
       "    </tr>\n",
       "  </thead>\n",
       "  <tbody>\n",
       "    <tr>\n",
       "      <th>211</th>\n",
       "      <td>antucket - Pomegranate Pear</td>\n",
       "      <td>Beverages</td>\n",
       "    </tr>\n",
       "    <tr>\n",
       "      <th>212</th>\n",
       "      <td>Whmis - Spray Bottle Trigger</td>\n",
       "      <td>Equipment</td>\n",
       "    </tr>\n",
       "  </tbody>\n",
       "</table>\n",
       "</div>"
      ],
      "text/plain": [
       "                             item   category\n",
       "211   antucket - Pomegranate Pear  Beverages\n",
       "212  Whmis - Spray Bottle Trigger  Equipment"
      ]
     },
     "execution_count": 20,
     "metadata": {},
     "output_type": "execute_result"
    }
   ],
   "source": [
    "_dict_update.tail(2)"
   ]
  },
  {
   "cell_type": "markdown",
   "metadata": {},
   "source": [
    "# scenario 2  - add one additional item to existing category"
   ]
  },
  {
   "cell_type": "code",
   "execution_count": 21,
   "metadata": {},
   "outputs": [],
   "source": [
    "item_list2a = ['Tuna - Salad Premix', ]\n",
    "item_list2b = ['Olives - Stuffed']\n",
    "category2 = 'Canned Foods/ Preserves'"
   ]
  },
  {
   "cell_type": "code",
   "execution_count": 22,
   "metadata": {},
   "outputs": [
    {
     "name": "stdout",
     "output_type": "stream",
     "text": [
      "Dictionary is 213 long\n",
      "============================\n",
      "\n",
      "\"Tuna - Salad Premix\" is already tagged under \"Canned Foods/ Preserves\" category\n",
      "\n",
      "============================\n",
      "Dictionary is now 213 long\n"
     ]
    }
   ],
   "source": [
    "_dict_update = update_dict(_dict_update, category2, item_list2a)"
   ]
  },
  {
   "cell_type": "code",
   "execution_count": 23,
   "metadata": {},
   "outputs": [
    {
     "data": {
      "text/html": [
       "<div>\n",
       "<style scoped>\n",
       "    .dataframe tbody tr th:only-of-type {\n",
       "        vertical-align: middle;\n",
       "    }\n",
       "\n",
       "    .dataframe tbody tr th {\n",
       "        vertical-align: top;\n",
       "    }\n",
       "\n",
       "    .dataframe thead th {\n",
       "        text-align: right;\n",
       "    }\n",
       "</style>\n",
       "<table border=\"1\" class=\"dataframe\">\n",
       "  <thead>\n",
       "    <tr style=\"text-align: right;\">\n",
       "      <th></th>\n",
       "      <th>item</th>\n",
       "      <th>category</th>\n",
       "    </tr>\n",
       "  </thead>\n",
       "  <tbody>\n",
       "    <tr>\n",
       "      <th>195</th>\n",
       "      <td>Tuna - Salad Premix</td>\n",
       "      <td>Canned Foods/ Preserves</td>\n",
       "    </tr>\n",
       "  </tbody>\n",
       "</table>\n",
       "</div>"
      ],
      "text/plain": [
       "                    item                 category\n",
       "195  Tuna - Salad Premix  Canned Foods/ Preserves"
      ]
     },
     "execution_count": 23,
     "metadata": {},
     "output_type": "execute_result"
    }
   ],
   "source": [
    "_dict_update[_dict_update['item'] == 'Tuna - Salad Premix']"
   ]
  },
  {
   "cell_type": "code",
   "execution_count": 24,
   "metadata": {},
   "outputs": [
    {
     "name": "stdout",
     "output_type": "stream",
     "text": [
      "Dictionary is 213 long\n",
      "============================\n",
      "\n",
      "\"Olives - Stuffed\" added to \"Canned Foods/ Preserves\" category\n",
      "\n",
      "============================\n",
      "Dictionary is now 214 long\n"
     ]
    }
   ],
   "source": [
    "_dict_update = update_dict(_dict_update, category2, item_list2b)"
   ]
  },
  {
   "cell_type": "code",
   "execution_count": 25,
   "metadata": {},
   "outputs": [
    {
     "data": {
      "text/html": [
       "<div>\n",
       "<style scoped>\n",
       "    .dataframe tbody tr th:only-of-type {\n",
       "        vertical-align: middle;\n",
       "    }\n",
       "\n",
       "    .dataframe tbody tr th {\n",
       "        vertical-align: top;\n",
       "    }\n",
       "\n",
       "    .dataframe thead th {\n",
       "        text-align: right;\n",
       "    }\n",
       "</style>\n",
       "<table border=\"1\" class=\"dataframe\">\n",
       "  <thead>\n",
       "    <tr style=\"text-align: right;\">\n",
       "      <th></th>\n",
       "      <th>item</th>\n",
       "      <th>category</th>\n",
       "    </tr>\n",
       "  </thead>\n",
       "  <tbody>\n",
       "    <tr>\n",
       "      <th>212</th>\n",
       "      <td>Whmis - Spray Bottle Trigger</td>\n",
       "      <td>Equipment</td>\n",
       "    </tr>\n",
       "    <tr>\n",
       "      <th>213</th>\n",
       "      <td>Olives - Stuffed</td>\n",
       "      <td>Canned Foods/ Preserves</td>\n",
       "    </tr>\n",
       "  </tbody>\n",
       "</table>\n",
       "</div>"
      ],
      "text/plain": [
       "                             item                 category\n",
       "212  Whmis - Spray Bottle Trigger                Equipment\n",
       "213              Olives - Stuffed  Canned Foods/ Preserves"
      ]
     },
     "execution_count": 25,
     "metadata": {},
     "output_type": "execute_result"
    }
   ],
   "source": [
    "_dict_update.tail(2)"
   ]
  },
  {
   "cell_type": "markdown",
   "metadata": {},
   "source": [
    "### Export Data"
   ]
  },
  {
   "cell_type": "code",
   "execution_count": 26,
   "metadata": {},
   "outputs": [],
   "source": [
    "# df_customers_clean.to_csv(filepaths.interim_customers_data, index=False)\n",
    "# df_employees_clean.to_csv(filepaths.interim_employees_data, index=False)\n",
    "# df_countries_clean.to_csv(filepaths.interim_countries_data, index=False)\n",
    "# df_cities_clean.to_csv(filepaths.interim_cities_data, index=False)\n",
    "# df_products_clean.to_csv(filepaths.interim_products_data_v2, index=False)\n",
    "# df_sales_clean.to_csv(filepaths.interim_sales_data, index=False)"
   ]
  }
 ],
 "metadata": {
  "kernelspec": {
   "display_name": "Python 3",
   "language": "python",
   "name": "python3"
  },
  "language_info": {
   "codemirror_mode": {
    "name": "ipython",
    "version": 3
   },
   "file_extension": ".py",
   "mimetype": "text/x-python",
   "name": "python",
   "nbconvert_exporter": "python",
   "pygments_lexer": "ipython3",
   "version": "3.7.4"
  }
 },
 "nbformat": 4,
 "nbformat_minor": 4
}
