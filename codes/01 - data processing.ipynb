{
 "cells": [
  {
   "cell_type": "markdown",
   "metadata": {},
   "source": [
    "## Import Modules"
   ]
  },
  {
   "cell_type": "code",
   "execution_count": 1,
   "metadata": {},
   "outputs": [],
   "source": [
    "# Set paths\n",
    "import os\n",
    "import random\n",
    "from imp import reload\n",
    "\n",
    "# Data manipulation\n",
    "import pandas as pd\n",
    "import numpy as np\n",
    "\n",
    "# Geolocation\n",
    "import geonamescache\n",
    "\n",
    "# Custom package for data preprocessing\n",
    "import preprocessing as pp\n",
    "\n",
    "# %load_ext autoreload\n",
    "# %autoreload 2\n",
    "\n",
    "# Set notebook options\n",
    "pd.set_option(\"display.max_columns\", 150)\n",
    "pd.set_option(\"display.max_rows\", 10000)\n",
    "pd.set_option(\"display.float_format\", lambda x: '%.2f' % x)\n",
    "\n",
    "# Pretty display of multiple functions in a cell\n",
    "from IPython.core.interactiveshell import InteractiveShell\n",
    "InteractiveShell.ast_node_interactivity = \"all\""
   ]
  },
  {
   "cell_type": "markdown",
   "metadata": {},
   "source": [
    "### File Location"
   ]
  },
  {
   "cell_type": "code",
   "execution_count": 2,
   "metadata": {},
   "outputs": [],
   "source": [
    "# Data paths\n",
    "import filepaths"
   ]
  },
  {
   "cell_type": "markdown",
   "metadata": {},
   "source": [
    "## Customer Data"
   ]
  },
  {
   "cell_type": "code",
   "execution_count": 3,
   "metadata": {},
   "outputs": [],
   "source": [
    "df_customers = pd.read_csv(filepaths.raw_customers_data, sep=';')"
   ]
  },
  {
   "cell_type": "markdown",
   "metadata": {},
   "source": [
    "## Employee Data"
   ]
  },
  {
   "cell_type": "code",
   "execution_count": 4,
   "metadata": {},
   "outputs": [],
   "source": [
    "df_employees = pd.read_csv(filepaths.raw_employees_data, sep=';')\n",
    "date_list = ['HireDate','BirthDate']\n",
    "\n",
    "df_employees = pp.preprocess_employee_data(df_employees, date_list, filepaths.interim_employees_data)"
   ]
  },
  {
   "cell_type": "markdown",
   "metadata": {},
   "source": [
    "## Country Data"
   ]
  },
  {
   "cell_type": "code",
   "execution_count": 5,
   "metadata": {},
   "outputs": [],
   "source": [
    "df_countries = pd.read_csv(filepaths.raw_countries_data, sep=';')\n",
    "feature_list = ['CountryCode']\n",
    "nan_replacements = 'AV'\n",
    "\n",
    "df_countries = pp.preprocess_country_data(df_countries, feature_list, nan_replacements, filepaths.interim_countries_data)"
   ]
  },
  {
   "cell_type": "markdown",
   "metadata": {},
   "source": [
    "## City Data"
   ]
  },
  {
   "cell_type": "code",
   "execution_count": 6,
   "metadata": {},
   "outputs": [],
   "source": [
    "df_cities = pd.read_csv(filepaths.raw_cities_data, sep=';')\n",
    "df_us_regions = pd.read_csv(filepaths.external_us_regions_data, sep=',')\n",
    "city_list = df_cities['CityName'].to_list()\n",
    "col_name = 'State'\n",
    "feature_list = ['State']\n",
    "nan_replacements = '0'\n",
    "\n",
    "df_cities = pp.preprocess_city_data(df_cities, df_us_regions, city_list, col_name, feature_list, nan_replacements, filepaths.interim_cities_data)"
   ]
  },
  {
   "cell_type": "markdown",
   "metadata": {},
   "source": [
    "## Products Data"
   ]
  },
  {
   "cell_type": "code",
   "execution_count": 7,
   "metadata": {},
   "outputs": [],
   "source": [
    "df_products = pd.read_csv(filepaths.interim_products_data_v1, sep=';')\n",
    "date_list = ['ModifyDate']\n",
    "feature_list = ['Resistant', 'IsAllergic']\n",
    "nan_replacements = '_blank'\n",
    "\n",
    "df_products = pp.preprocess_product_data(df_products, date_list, feature_list, nan_replacements, filepaths.interim_products_data_v2)"
   ]
  },
  {
   "cell_type": "markdown",
   "metadata": {},
   "source": [
    "## Sales Data"
   ]
  },
  {
   "cell_type": "code",
   "execution_count": 8,
   "metadata": {},
   "outputs": [],
   "source": [
    "df_sales = pd.read_csv(filepaths.raw_sales_data, sep=';')\n",
    "date_list = ['SalesDate']\n",
    "\n",
    "df_sales = pp.preprocess_sales_data(df_sales, date_list, filepaths.interim_sales_data)"
   ]
  }
 ],
 "metadata": {
  "kernelspec": {
   "display_name": "Python 3",
   "language": "python",
   "name": "python3"
  },
  "language_info": {
   "codemirror_mode": {
    "name": "ipython",
    "version": 3
   },
   "file_extension": ".py",
   "mimetype": "text/x-python",
   "name": "python",
   "nbconvert_exporter": "python",
   "pygments_lexer": "ipython3",
   "version": "3.7.4"
  }
 },
 "nbformat": 4,
 "nbformat_minor": 2
}
